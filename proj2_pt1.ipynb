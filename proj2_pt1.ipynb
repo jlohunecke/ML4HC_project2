{
 "cells": [
  {
   "cell_type": "markdown",
   "source": [
    "# Project 2 - Part 1"
   ],
   "metadata": {
    "collapsed": false
   },
   "id": "b85c5a96f3df2e6e"
  },
  {
   "cell_type": "code",
   "execution_count": 2,
   "outputs": [
    {
     "name": "stdout",
     "output_type": "stream",
     "text": [
      "Collecting torch (from -r requirements.txt (line 1))\r\n",
      "  Obtaining dependency information for torch from https://files.pythonhosted.org/packages/e9/22/b9666424fd3745b1dc5d83ed08baffa6bbf7dddd425067420c4100319402/torch-2.2.2-cp39-none-macosx_11_0_arm64.whl.metadata\r\n",
      "  Downloading torch-2.2.2-cp39-none-macosx_11_0_arm64.whl.metadata (25 kB)\r\n",
      "Collecting filelock (from torch->-r requirements.txt (line 1))\r\n",
      "  Obtaining dependency information for filelock from https://files.pythonhosted.org/packages/6e/b5/15b3b36f298bcbc0be82a371ac744f4f5a10309ade0b8bbde286598dd612/filelock-3.13.4-py3-none-any.whl.metadata\r\n",
      "  Downloading filelock-3.13.4-py3-none-any.whl.metadata (2.8 kB)\r\n",
      "Requirement already satisfied: typing-extensions>=4.8.0 in /Users/jacobleooskar/Documents/Education/ETHZ/Curriculum/Semester02/02ML4HC/Projects/Project 2/venv/lib/python3.9/site-packages (from torch->-r requirements.txt (line 1)) (4.11.0)\r\n",
      "Collecting sympy (from torch->-r requirements.txt (line 1))\r\n",
      "  Obtaining dependency information for sympy from https://files.pythonhosted.org/packages/d2/05/e6600db80270777c4a64238a98d442f0fd07cc8915be2a1c16da7f2b9e74/sympy-1.12-py3-none-any.whl.metadata\r\n",
      "  Downloading sympy-1.12-py3-none-any.whl.metadata (12 kB)\r\n",
      "Collecting networkx (from torch->-r requirements.txt (line 1))\r\n",
      "  Obtaining dependency information for networkx from https://files.pythonhosted.org/packages/d5/f0/8fbc882ca80cf077f1b246c0e3c3465f7f415439bdea6b899f6b19f61f70/networkx-3.2.1-py3-none-any.whl.metadata\r\n",
      "  Using cached networkx-3.2.1-py3-none-any.whl.metadata (5.2 kB)\r\n",
      "Requirement already satisfied: jinja2 in /Users/jacobleooskar/Documents/Education/ETHZ/Curriculum/Semester02/02ML4HC/Projects/Project 2/venv/lib/python3.9/site-packages (from torch->-r requirements.txt (line 1)) (3.1.3)\r\n",
      "Collecting fsspec (from torch->-r requirements.txt (line 1))\r\n",
      "  Obtaining dependency information for fsspec from https://files.pythonhosted.org/packages/93/6d/66d48b03460768f523da62a57a7e14e5e95fdf339d79e996ce3cecda2cdb/fsspec-2024.3.1-py3-none-any.whl.metadata\r\n",
      "  Downloading fsspec-2024.3.1-py3-none-any.whl.metadata (6.8 kB)\r\n",
      "Requirement already satisfied: MarkupSafe>=2.0 in /Users/jacobleooskar/Documents/Education/ETHZ/Curriculum/Semester02/02ML4HC/Projects/Project 2/venv/lib/python3.9/site-packages (from jinja2->torch->-r requirements.txt (line 1)) (2.1.5)\r\n",
      "Collecting mpmath>=0.19 (from sympy->torch->-r requirements.txt (line 1))\r\n",
      "  Obtaining dependency information for mpmath>=0.19 from https://files.pythonhosted.org/packages/43/e3/7d92a15f894aa0c9c4b49b8ee9ac9850d6e63b03c9c32c0367a13ae62209/mpmath-1.3.0-py3-none-any.whl.metadata\r\n",
      "  Downloading mpmath-1.3.0-py3-none-any.whl.metadata (8.6 kB)\r\n",
      "Downloading torch-2.2.2-cp39-none-macosx_11_0_arm64.whl (59.7 MB)\r\n",
      "\u001B[2K   \u001B[90m━━━━━━━━━━━━━━━━━━━━━━━━━━━━━━━━━━━━━━━━\u001B[0m \u001B[32m59.7/59.7 MB\u001B[0m \u001B[31m24.2 MB/s\u001B[0m eta \u001B[36m0:00:00\u001B[0m00:01\u001B[0m00:01\u001B[0m\r\n",
      "\u001B[?25hDownloading filelock-3.13.4-py3-none-any.whl (11 kB)\r\n",
      "Downloading fsspec-2024.3.1-py3-none-any.whl (171 kB)\r\n",
      "\u001B[2K   \u001B[90m━━━━━━━━━━━━━━━━━━━━━━━━━━━━━━━━━━━━━━━━\u001B[0m \u001B[32m172.0/172.0 kB\u001B[0m \u001B[31m20.1 MB/s\u001B[0m eta \u001B[36m0:00:00\u001B[0m\r\n",
      "\u001B[?25hUsing cached networkx-3.2.1-py3-none-any.whl (1.6 MB)\r\n",
      "Using cached sympy-1.12-py3-none-any.whl (5.7 MB)\r\n",
      "Using cached mpmath-1.3.0-py3-none-any.whl (536 kB)\r\n",
      "Installing collected packages: mpmath, sympy, networkx, fsspec, filelock, torch\r\n",
      "Successfully installed filelock-3.13.4 fsspec-2024.3.1 mpmath-1.3.0 networkx-3.2.1 sympy-1.12 torch-2.2.2\r\n",
      "\r\n",
      "\u001B[1m[\u001B[0m\u001B[34;49mnotice\u001B[0m\u001B[1;39;49m]\u001B[0m\u001B[39;49m A new release of pip is available: \u001B[0m\u001B[31;49m23.2.1\u001B[0m\u001B[39;49m -> \u001B[0m\u001B[32;49m24.0\u001B[0m\r\n",
      "\u001B[1m[\u001B[0m\u001B[34;49mnotice\u001B[0m\u001B[1;39;49m]\u001B[0m\u001B[39;49m To update, run: \u001B[0m\u001B[32;49mpip install --upgrade pip\u001B[0m\r\n",
      "Note: you may need to restart the kernel to use updated packages.\n"
     ]
    }
   ],
   "source": [
    "pip install -r requirements.txt"
   ],
   "metadata": {
    "collapsed": false,
    "ExecuteTime": {
     "end_time": "2024-04-23T15:57:28.237868Z",
     "start_time": "2024-04-23T15:57:17.027288Z"
    }
   },
   "id": "2e684c3719724eff"
  },
  {
   "cell_type": "code",
   "execution_count": 3,
   "outputs": [
    {
     "name": "stderr",
     "output_type": "stream",
     "text": [
      "/Users/jacobleooskar/Documents/Education/ETHZ/Curriculum/Semester02/02ML4HC/Projects/Project 2/venv/lib/python3.9/site-packages/torch/nn/modules/transformer.py:20: UserWarning: Failed to initialize NumPy: No module named 'numpy' (Triggered internally at /Users/runner/work/pytorch/pytorch/pytorch/torch/csrc/utils/tensor_numpy.cpp:84.)\n",
      "  device: torch.device = torch.device(torch._C._get_default_device()),  # torch.device('cpu'),\n"
     ]
    }
   ],
   "source": [
    "import torch.nn as nn"
   ],
   "metadata": {
    "collapsed": false,
    "ExecuteTime": {
     "end_time": "2024-04-23T15:58:13.167161Z",
     "start_time": "2024-04-23T15:58:10.917068Z"
    }
   },
   "id": "51f447f3fb179693"
  },
  {
   "cell_type": "markdown",
   "source": [
    "## Exploratory Data Analysis"
   ],
   "metadata": {
    "collapsed": false
   },
   "id": "9afa456da948c5a4"
  },
  {
   "cell_type": "code",
   "execution_count": null,
   "outputs": [],
   "source": [],
   "metadata": {
    "collapsed": false
   },
   "id": "c02e61f378d623a9"
  },
  {
   "cell_type": "markdown",
   "source": [
    "## Classic Machine Learning Methods"
   ],
   "metadata": {
    "collapsed": false
   },
   "id": "9a99bc8b6f1dd54f"
  },
  {
   "cell_type": "markdown",
   "source": [
    "## Recurrent Neural Networks"
   ],
   "metadata": {
    "collapsed": false
   },
   "id": "3406d8606825c43f"
  },
  {
   "cell_type": "markdown",
   "source": [
    "## Convolutional Neural Networks"
   ],
   "metadata": {
    "collapsed": false
   },
   "id": "2f27593aa49d15e5"
  },
  {
   "cell_type": "markdown",
   "source": [
    "## Attention and Transformers"
   ],
   "metadata": {
    "collapsed": false
   },
   "id": "21c8255c714871f8"
  },
  {
   "cell_type": "code",
   "execution_count": null,
   "outputs": [],
   "source": [],
   "metadata": {
    "collapsed": false
   },
   "id": "6537f8589f3134e"
  }
 ],
 "metadata": {
  "kernelspec": {
   "display_name": "Python 3",
   "language": "python",
   "name": "python3"
  },
  "language_info": {
   "codemirror_mode": {
    "name": "ipython",
    "version": 2
   },
   "file_extension": ".py",
   "mimetype": "text/x-python",
   "name": "python",
   "nbconvert_exporter": "python",
   "pygments_lexer": "ipython2",
   "version": "2.7.6"
  }
 },
 "nbformat": 4,
 "nbformat_minor": 5
}
