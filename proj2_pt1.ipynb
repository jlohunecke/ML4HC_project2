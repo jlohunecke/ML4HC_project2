{
 "cells": [
  {
   "cell_type": "markdown",
   "id": "b85c5a96f3df2e6e",
   "metadata": {
    "collapsed": false
   },
   "source": [
    "# Project 2 - Part 1"
   ]
  },
  {
   "cell_type": "markdown",
   "id": "e8b561668b81e10f",
   "metadata": {
    "collapsed": false
   },
   "source": [
    "## TODO\n",
    "\n",
    "- visualize attention maps: Visualize the attention map learned by your model using input layer weights. Do you gain any insight on important data points to distinguish between normal and abnormal sequences (2 pts)?\n",
    "\n",
    "- make more consistent (training function, dataloader etc.)\n",
    "\n",
    "- save epoch_accuracies etc. in pickle"
   ]
  },
  {
   "cell_type": "code",
   "execution_count": 1,
   "id": "2e684c3719724eff",
   "metadata": {
    "collapsed": false,
    "ExecuteTime": {
     "end_time": "2024-05-01T17:13:49.392165Z",
     "start_time": "2024-05-01T17:13:48.876731Z"
    }
   },
   "outputs": [
    {
     "name": "stdout",
     "output_type": "stream",
     "text": [
      "Requirement already satisfied: appnope==0.1.4 in /Users/jacobleooskar/Documents/Education/ETHZ/Curriculum/Semester02/02ML4HC/Projects/Project 2/venv/lib/python3.9/site-packages (from -r requirements.txt (line 1)) (0.1.4)\r\n",
      "Requirement already satisfied: asttokens==2.4.1 in /Users/jacobleooskar/Documents/Education/ETHZ/Curriculum/Semester02/02ML4HC/Projects/Project 2/venv/lib/python3.9/site-packages (from -r requirements.txt (line 2)) (2.4.1)\r\n",
      "Requirement already satisfied: certifi==2024.2.2 in /Users/jacobleooskar/Documents/Education/ETHZ/Curriculum/Semester02/02ML4HC/Projects/Project 2/venv/lib/python3.9/site-packages (from -r requirements.txt (line 3)) (2024.2.2)\r\n",
      "Requirement already satisfied: charset-normalizer==3.3.2 in /Users/jacobleooskar/Documents/Education/ETHZ/Curriculum/Semester02/02ML4HC/Projects/Project 2/venv/lib/python3.9/site-packages (from -r requirements.txt (line 4)) (3.3.2)\r\n",
      "Requirement already satisfied: cloudpickle==3.0.0 in /Users/jacobleooskar/Documents/Education/ETHZ/Curriculum/Semester02/02ML4HC/Projects/Project 2/venv/lib/python3.9/site-packages (from -r requirements.txt (line 5)) (3.0.0)\r\n",
      "Requirement already satisfied: comm==0.2.2 in /Users/jacobleooskar/Documents/Education/ETHZ/Curriculum/Semester02/02ML4HC/Projects/Project 2/venv/lib/python3.9/site-packages (from -r requirements.txt (line 6)) (0.2.2)\r\n",
      "Requirement already satisfied: contourpy==1.2.1 in /Users/jacobleooskar/Documents/Education/ETHZ/Curriculum/Semester02/02ML4HC/Projects/Project 2/venv/lib/python3.9/site-packages (from -r requirements.txt (line 7)) (1.2.1)\r\n",
      "Requirement already satisfied: cycler==0.12.1 in /Users/jacobleooskar/Documents/Education/ETHZ/Curriculum/Semester02/02ML4HC/Projects/Project 2/venv/lib/python3.9/site-packages (from -r requirements.txt (line 8)) (0.12.1)\r\n",
      "Requirement already satisfied: debugpy==1.8.1 in /Users/jacobleooskar/Documents/Education/ETHZ/Curriculum/Semester02/02ML4HC/Projects/Project 2/venv/lib/python3.9/site-packages (from -r requirements.txt (line 9)) (1.8.1)\r\n",
      "Requirement already satisfied: decorator==5.1.1 in /Users/jacobleooskar/Documents/Education/ETHZ/Curriculum/Semester02/02ML4HC/Projects/Project 2/venv/lib/python3.9/site-packages (from -r requirements.txt (line 10)) (5.1.1)\r\n",
      "Requirement already satisfied: exceptiongroup==1.2.1 in /Users/jacobleooskar/Documents/Education/ETHZ/Curriculum/Semester02/02ML4HC/Projects/Project 2/venv/lib/python3.9/site-packages (from -r requirements.txt (line 11)) (1.2.1)\r\n",
      "Requirement already satisfied: executing==2.0.1 in /Users/jacobleooskar/Documents/Education/ETHZ/Curriculum/Semester02/02ML4HC/Projects/Project 2/venv/lib/python3.9/site-packages (from -r requirements.txt (line 12)) (2.0.1)\r\n",
      "Requirement already satisfied: filelock==3.13.4 in /Users/jacobleooskar/Documents/Education/ETHZ/Curriculum/Semester02/02ML4HC/Projects/Project 2/venv/lib/python3.9/site-packages (from -r requirements.txt (line 13)) (3.13.4)\r\n",
      "Requirement already satisfied: fonttools==4.51.0 in /Users/jacobleooskar/Documents/Education/ETHZ/Curriculum/Semester02/02ML4HC/Projects/Project 2/venv/lib/python3.9/site-packages (from -r requirements.txt (line 14)) (4.51.0)\r\n",
      "Requirement already satisfied: fsspec==2024.3.1 in /Users/jacobleooskar/Documents/Education/ETHZ/Curriculum/Semester02/02ML4HC/Projects/Project 2/venv/lib/python3.9/site-packages (from -r requirements.txt (line 15)) (2024.3.1)\r\n",
      "Requirement already satisfied: idna==3.7 in /Users/jacobleooskar/Documents/Education/ETHZ/Curriculum/Semester02/02ML4HC/Projects/Project 2/venv/lib/python3.9/site-packages (from -r requirements.txt (line 16)) (3.7)\r\n",
      "Requirement already satisfied: ipykernel==6.29.4 in /Users/jacobleooskar/Documents/Education/ETHZ/Curriculum/Semester02/02ML4HC/Projects/Project 2/venv/lib/python3.9/site-packages (from -r requirements.txt (line 17)) (6.29.4)\r\n",
      "\u001B[31mERROR: Ignored the following versions that require a different python version: 8.19.0 Requires-Python >=3.10; 8.20.0 Requires-Python >=3.10; 8.21.0 Requires-Python >=3.10; 8.22.0 Requires-Python >=3.10; 8.22.1 Requires-Python >=3.10; 8.22.2 Requires-Python >=3.10; 8.23.0 Requires-Python >=3.10; 8.24.0 Requires-Python >=3.10\u001B[0m\u001B[31m\r\n",
      "\u001B[0m\u001B[31mERROR: Could not find a version that satisfies the requirement ipython==8.24.0 (from versions: 0.10, 0.10.1, 0.10.2, 0.11, 0.12, 0.12.1, 0.13, 0.13.1, 0.13.2, 1.0.0, 1.1.0, 1.2.0, 1.2.1, 2.0.0, 2.1.0, 2.2.0, 2.3.0, 2.3.1, 2.4.0, 2.4.1, 3.0.0, 3.1.0, 3.2.0, 3.2.1, 3.2.2, 3.2.3, 4.0.0b1, 4.0.0, 4.0.1, 4.0.2, 4.0.3, 4.1.0rc1, 4.1.0rc2, 4.1.0, 4.1.1, 4.1.2, 4.2.0, 4.2.1, 5.0.0b1, 5.0.0b2, 5.0.0b3, 5.0.0b4, 5.0.0rc1, 5.0.0, 5.1.0, 5.2.0, 5.2.1, 5.2.2, 5.3.0, 5.4.0, 5.4.1, 5.5.0, 5.6.0, 5.7.0, 5.8.0, 5.9.0, 5.10.0, 6.0.0rc1, 6.0.0, 6.1.0, 6.2.0, 6.2.1, 6.3.0, 6.3.1, 6.4.0, 6.5.0, 7.0.0b1, 7.0.0rc1, 7.0.0, 7.0.1, 7.1.0, 7.1.1, 7.2.0, 7.3.0, 7.4.0, 7.5.0, 7.6.0, 7.6.1, 7.7.0, 7.8.0, 7.9.0, 7.10.0, 7.10.1, 7.10.2, 7.11.0, 7.11.1, 7.12.0, 7.13.0, 7.14.0, 7.15.0, 7.16.0, 7.16.1, 7.16.2, 7.16.3, 7.17.0, 7.18.0, 7.18.1, 7.19.0, 7.20.0, 7.21.0, 7.22.0, 7.23.0, 7.23.1, 7.24.0, 7.24.1, 7.25.0, 7.26.0, 7.27.0, 7.28.0, 7.29.0, 7.30.0, 7.30.1, 7.31.0, 7.31.1, 7.32.0, 7.33.0, 7.34.0, 8.0.0a1, 8.0.0b1, 8.0.0rc1, 8.0.0, 8.0.1, 8.1.0, 8.1.1, 8.2.0, 8.3.0, 8.4.0, 8.5.0, 8.6.0, 8.7.0, 8.8.0, 8.9.0, 8.10.0, 8.11.0, 8.12.0, 8.12.1, 8.12.2, 8.12.3, 8.13.0, 8.13.1, 8.13.2, 8.14.0, 8.15.0, 8.16.0, 8.16.1, 8.17.0, 8.17.1, 8.17.2, 8.18.0, 8.18.1)\u001B[0m\u001B[31m\r\n",
      "\u001B[0m\u001B[31mERROR: No matching distribution found for ipython==8.24.0\u001B[0m\u001B[31m\r\n",
      "\u001B[0m\r\n",
      "\u001B[1m[\u001B[0m\u001B[34;49mnotice\u001B[0m\u001B[1;39;49m]\u001B[0m\u001B[39;49m A new release of pip is available: \u001B[0m\u001B[31;49m23.2.1\u001B[0m\u001B[39;49m -> \u001B[0m\u001B[32;49m24.0\u001B[0m\r\n",
      "\u001B[1m[\u001B[0m\u001B[34;49mnotice\u001B[0m\u001B[1;39;49m]\u001B[0m\u001B[39;49m To update, run: \u001B[0m\u001B[32;49mpip install --upgrade pip\u001B[0m\r\n",
      "Note: you may need to restart the kernel to use updated packages.\n"
     ]
    }
   ],
   "source": [
    "pip install -r requirements.txt"
   ]
  },
  {
   "cell_type": "code",
   "execution_count": 2,
   "outputs": [],
   "source": [
    "import pandas as pd\n",
    "import matplotlib.pyplot as plt\n",
    "import numpy as np\n",
    "import torch\n",
    "import torch.nn as nn\n",
    "import torch.nn.init as init\n",
    "import math\n",
    "import pickle\n",
    "from torch.utils.data import DataLoader, Dataset\n",
    "from sklearn.linear_model import LogisticRegression\n",
    "from sklearn.ensemble import RandomForestClassifier\n",
    "from sklearn.metrics import balanced_accuracy_score\n",
    "from tqdm import tqdm"
   ],
   "metadata": {
    "collapsed": false,
    "ExecuteTime": {
     "end_time": "2024-05-01T17:13:50.956500Z",
     "start_time": "2024-05-01T17:13:49.377532Z"
    }
   },
   "id": "51f447f3fb179693"
  },
  {
   "cell_type": "markdown",
   "source": [
    "## Exploratory Data Analysis"
   ],
   "metadata": {
    "collapsed": false
   },
   "id": "9afa456da948c5a4"
  },
  {
   "cell_type": "code",
   "execution_count": 3,
   "id": "c02e61f378d623a9",
   "metadata": {
    "collapsed": false,
    "ExecuteTime": {
     "end_time": "2024-05-01T17:13:51.171438Z",
     "start_time": "2024-05-01T17:13:50.950470Z"
    }
   },
   "outputs": [],
   "source": [
    "data_train = pd.read_csv('data/ptbdb_train.csv')\n",
    "data_test = pd.read_csv('data/ptbdb_test.csv')\n",
    "data_train.columns = [str(i) for i in range(len(data_train.columns)-1)] + ['label']\n",
    "data_test.columns = [str(i) for i in range(len(data_test.columns)-1)] + ['label']\n",
    "\n",
    "X_train = data_train.iloc[:, :-1]\n",
    "y_train = data_train.iloc[:, -1]\n",
    "X_test = data_test.iloc[:, :-1]\n",
    "y_test = data_test.iloc[:, -1]"
   ]
  },
  {
   "cell_type": "code",
   "execution_count": 4,
   "id": "a8bfb3312a99f58a",
   "metadata": {
    "collapsed": false,
    "ExecuteTime": {
     "end_time": "2024-05-01T17:13:51.310225Z",
     "start_time": "2024-05-01T17:13:51.163783Z"
    }
   },
   "outputs": [
    {
     "data": {
      "text/plain": "<Figure size 1400x500 with 4 Axes>",
      "image/png": "[encoded data removed]"
     },
     "metadata": {},
     "output_type": "display_data"
    }
   ],
   "source": [
    "fig, axs = plt.subplots(2, 2, figsize=(14, 5))\n",
    "\n",
    "# Flatten the array for easy iteration\n",
    "axs = axs.flatten()\n",
    "\n",
    "# Iterate over the first 5 rows\n",
    "for i in range(4):\n",
    "    # Plot the data\n",
    "    axs[i].plot(X_train.iloc[i, :-1])\n",
    "    \n",
    "    # Set x ticks in 3 equidistant positions\n",
    "    axs[i].set_xticks([])\n",
    "\n",
    "plt.tight_layout()\n",
    "plt.show()"
   ]
  },
  {
   "cell_type": "code",
   "execution_count": 5,
   "id": "764240211099d698",
   "metadata": {
    "collapsed": false,
    "ExecuteTime": {
     "end_time": "2024-05-01T17:13:51.422532Z",
     "start_time": "2024-05-01T17:13:51.314918Z"
    }
   },
   "outputs": [
    {
     "data": {
      "text/plain": "<Figure size 1400x500 with 2 Axes>",
      "image/png": "[encoded data removed]"
     },
     "metadata": {},
     "output_type": "display_data"
    }
   ],
   "source": [
    "fig, axs = plt.subplots(1, 2, figsize=(14, 5))\n",
    "\n",
    "datasets = [y_train, y_test]\n",
    "dataset_names = ['Train', 'Test']\n",
    "for i in range(2):\n",
    "    axs[i].bar(['Normal', 'Abnormal'], datasets[i].value_counts().sort_index(ascending=True))\n",
    "    axs[i].set_title('Dataset ' + dataset_names[i])\n",
    "    axs[i].set_ylabel('Count')\n",
    "    axs[i].set_xlabel('Class')\n",
    "    axs[i].text(0, datasets[i].value_counts()[0]/2, datasets[i].value_counts()[0], ha='center', fontweight='bold')\n",
    "    axs[i].text(1, datasets[i].value_counts()[1]/2, datasets[i].value_counts()[1], ha='center', fontweight='bold')\n",
    "plt.show()\n"
   ]
  },
  {
   "cell_type": "code",
   "execution_count": 6,
   "id": "b49a09cffbc1b47b",
   "metadata": {
    "collapsed": false,
    "ExecuteTime": {
     "end_time": "2024-05-01T17:13:51.422650Z",
     "start_time": "2024-05-01T17:13:51.418988Z"
    }
   },
   "outputs": [
    {
     "name": "stdout",
     "output_type": "stream",
     "text": [
      "Dataset Train: 80.0%\n",
      "Dataset Test: 20.0%\n"
     ]
    }
   ],
   "source": [
    "n = len(y_train) + len(y_test)\n",
    "for i in range(2):\n",
    "    print('Dataset ' + dataset_names[i] + ': ' + str(len(datasets[i])/n*100) + '%')"
   ]
  },
  {
   "cell_type": "code",
   "execution_count": 7,
   "id": "e7e47d20624cbe73",
   "metadata": {
    "collapsed": false,
    "ExecuteTime": {
     "end_time": "2024-05-01T17:13:51.425171Z",
     "start_time": "2024-05-01T17:13:51.421507Z"
    }
   },
   "outputs": [
    {
     "name": "stdout",
     "output_type": "stream",
     "text": [
      "Dataset Train: 72.19072164948453%\n",
      "Dataset Test: 72.23367697594502%\n"
     ]
    }
   ],
   "source": [
    "for i in range(2):\n",
    "    print('Dataset ' + dataset_names[i] + ': ' + str(np.mean(datasets[i])*100) + '%')"
   ]
  },
  {
   "cell_type": "markdown",
   "id": "9a99bc8b6f1dd54f",
   "metadata": {
    "collapsed": false
   },
   "source": [
    "## Classic Machine Learning Methods"
   ]
  },
  {
   "cell_type": "markdown",
   "id": "989199b6bc60b8a2",
   "metadata": {
    "collapsed": false
   },
   "source": [
    "### Logistic Regression"
   ]
  },
  {
   "cell_type": "code",
   "execution_count": 8,
   "id": "f7caa46ab9d3dc68",
   "metadata": {
    "collapsed": false,
    "ExecuteTime": {
     "end_time": "2024-05-01T17:13:51.631356Z",
     "start_time": "2024-05-01T17:13:51.425880Z"
    }
   },
   "outputs": [
    {
     "name": "stdout",
     "output_type": "stream",
     "text": [
      "Train accuracy: 0.8344501718213059\n",
      "Test accuracy: 0.8223367697594501\n"
     ]
    }
   ],
   "source": [
    "log_reg = LogisticRegression(max_iter=1000)\n",
    "log_reg.fit(X_train, y_train)\n",
    "print('Train accuracy: ' + str(log_reg.score(X_train, y_train)))\n",
    "print('Test accuracy: ' + str(log_reg.score(X_test, y_test)))"
   ]
  },
  {
   "cell_type": "markdown",
   "id": "fec6ec8bc563a502",
   "metadata": {
    "collapsed": false
   },
   "source": [
    "### Random Forest"
   ]
  },
  {
   "cell_type": "code",
   "execution_count": 9,
   "id": "3ff46dbe11d392b0",
   "metadata": {
    "collapsed": false,
    "ExecuteTime": {
     "end_time": "2024-05-01T17:13:56.205363Z",
     "start_time": "2024-05-01T17:13:51.630995Z"
    }
   },
   "outputs": [
    {
     "name": "stdout",
     "output_type": "stream",
     "text": [
      "Train accuracy: 1.0\n",
      "Test accuracy: 0.9687285223367698\n"
     ]
    }
   ],
   "source": [
    "rf = RandomForestClassifier()\n",
    "rf.fit(X_train, y_train)\n",
    "print('Train accuracy: ' + str(rf.score(X_train, y_train)))\n",
    "print('Test accuracy: ' + str(rf.score(X_test, y_test)))"
   ]
  },
  {
   "cell_type": "markdown",
   "id": "8e86efb5b2e1479d",
   "metadata": {
    "collapsed": false
   },
   "source": [
    "### Feature Design"
   ]
  },
  {
   "cell_type": "code",
   "execution_count": 10,
   "id": "95ed68c8ac821614",
   "metadata": {
    "collapsed": false,
    "ExecuteTime": {
     "end_time": "2024-05-01T17:13:56.441651Z",
     "start_time": "2024-05-01T17:13:56.207980Z"
    }
   },
   "outputs": [],
   "source": [
    "X_train_extended = X_train.copy()\n",
    "X_test_extended = X_test.copy()\n",
    "\n",
    "X_train_extended['mean'] = X_train.mean(axis=1)\n",
    "X_train_extended['std'] = X_train.std(axis=1)\n",
    "X_train_extended['median'] = X_train.median(axis=1)\n",
    "X_train_extended['max'] = X_train.max(axis=1)\n",
    "X_train_extended['min'] = X_train.min(axis=1)\n",
    "X_train_extended['range'] = X_train.max(axis=1) - X_train.min(axis=1)\n",
    "X_train_extended['iqr'] = X_train.quantile(0.75, axis=1) - X_train.quantile(0.25, axis=1)\n",
    "X_train_extended['q1'] = X_train.quantile(0.25, axis=1)\n",
    "X_train_extended['q3'] = X_train.quantile(0.75, axis=1)\n",
    "X_train_extended['kurtosis'] = X_train.kurtosis(axis=1)\n",
    "X_train_extended['skew'] = X_train.skew(axis=1)\n",
    "X_test_extended['mean'] = X_test.mean(axis=1)\n",
    "X_test_extended['std'] = X_test.std(axis=1)\n",
    "X_test_extended['median'] = X_test.median(axis=1)\n",
    "X_test_extended['max'] = X_test.max(axis=1)\n",
    "X_test_extended['min'] = X_test.min(axis=1)\n",
    "X_test_extended['range'] = X_test.max(axis=1) - X_test.min(axis=1)\n",
    "X_test_extended['iqr'] = X_test.quantile(0.75, axis=1) - X_test.quantile(0.25, axis=1)\n",
    "X_test_extended['q1'] = X_test.quantile(0.25, axis=1)\n",
    "X_test_extended['q3'] = X_test.quantile(0.75, axis=1)\n",
    "X_test_extended['kurtosis'] = X_test.kurtosis(axis=1)\n",
    "X_test_extended['skew'] = X_test.skew(axis=1)"
   ]
  },
  {
   "cell_type": "code",
   "execution_count": 11,
   "id": "1d98066dc984e5f3",
   "metadata": {
    "collapsed": false,
    "ExecuteTime": {
     "end_time": "2024-05-01T17:13:56.822561Z",
     "start_time": "2024-05-01T17:13:56.442990Z"
    }
   },
   "outputs": [
    {
     "name": "stdout",
     "output_type": "stream",
     "text": [
      "Train accuracy: 0.8384020618556701\n",
      "Test accuracy: 0.8340206185567011\n"
     ]
    }
   ],
   "source": [
    "log_reg_extended = LogisticRegression(max_iter=1000)\n",
    "log_reg_extended.fit(X_train_extended, y_train)\n",
    "print('Train accuracy: ' + str(log_reg_extended.score(X_train_extended, y_train)))\n",
    "print('Test accuracy: ' + str(log_reg_extended.score(X_test_extended, y_test)))"
   ]
  },
  {
   "cell_type": "code",
   "execution_count": 12,
   "id": "8b9611e70765afaa",
   "metadata": {
    "collapsed": false,
    "ExecuteTime": {
     "end_time": "2024-05-01T17:14:01.680662Z",
     "start_time": "2024-05-01T17:13:56.860152Z"
    }
   },
   "outputs": [
    {
     "name": "stdout",
     "output_type": "stream",
     "text": [
      "Train accuracy: 1.0\n",
      "Test accuracy: 0.9690721649484536\n"
     ]
    }
   ],
   "source": [
    "rf_extended = RandomForestClassifier()\n",
    "rf_extended.fit(X_train_extended, y_train)\n",
    "print('Train accuracy: ' + str(rf_extended.score(X_train_extended, y_train)))\n",
    "print('Test accuracy: ' + str(rf_extended.score(X_test_extended, y_test)))"
   ]
  },
  {
   "cell_type": "markdown",
   "id": "3406d8606825c43f",
   "metadata": {
    "collapsed": false
   },
   "source": [
    "## Recurrent Neural Networks - LSTM"
   ]
  },
  {
   "cell_type": "markdown",
   "source": [
    "### Unidirectional LSTM\n"
   ],
   "metadata": {
    "collapsed": false
   },
   "id": "9aafedac0deac320"
  },
  {
   "cell_type": "code",
   "execution_count": 13,
   "outputs": [
    {
     "name": "stdout",
     "output_type": "stream",
     "text": [
      "mps\n"
     ]
    }
   ],
   "source": [
    "device = torch.device('mps' if torch.backends.mps.is_available() else 'cpu')\n",
    "print(device)"
   ],
   "metadata": {
    "collapsed": false,
    "ExecuteTime": {
     "end_time": "2024-05-01T17:14:01.693351Z",
     "start_time": "2024-05-01T17:14:01.691146Z"
    }
   },
   "id": "e54e946c"
  },
  {
   "cell_type": "code",
   "execution_count": 14,
   "outputs": [],
   "source": [
    "X_train_tensor = torch.tensor(X_train.values, dtype=torch.float32).unsqueeze(2).to(device)\n",
    "X_test_tensor = torch.tensor(X_test.values, dtype=torch.float32).unsqueeze(2).to(device)\n",
    "y_train_tensor = torch.tensor(y_train.values, dtype=torch.float32).unsqueeze(1).to(device)\n",
    "y_test_tensor = torch.tensor(y_test.values, dtype=torch.float32).unsqueeze(1).to(device)\n",
    "\n",
    "# Balance training data\n",
    "X_train_tensor = torch.cat([X_train_tensor[y_train == 0], X_train_tensor[y_train == 1][:len(y_train[y_train == 0])]])\n",
    "y_train_tensor = torch.cat([y_train_tensor[y_train == 0], y_train_tensor[y_train == 1][:len(y_train[y_train == 0])]])\n",
    "\n",
    "X_train_dataloader = DataLoader(torch.utils.data.TensorDataset(X_train_tensor, y_train_tensor), batch_size=100, shuffle=True)"
   ],
   "metadata": {
    "collapsed": false,
    "ExecuteTime": {
     "end_time": "2024-05-01T17:14:01.837523Z",
     "start_time": "2024-05-01T17:14:01.697747Z"
    }
   },
   "id": "091514c4"
  },
  {
   "cell_type": "code",
   "execution_count": 15,
   "outputs": [],
   "source": [
    "class LSTMModel(nn.Module):\n",
    "    def __init__(self, input_size, hidden_size, num_layers, output_size, bidirectional=False):\n",
    "        super(LSTMModel, self).__init__()\n",
    "        self.lstm = nn.LSTM(input_size, hidden_size, num_layers = num_layers, batch_first=True, bidirectional=bidirectional)\n",
    "        \n",
    "        _hidden_size = hidden_size if not bidirectional else hidden_size * 2\n",
    "        self.fc1 = torch.nn.Linear(_hidden_size * num_layers, hidden_size * num_layers)\n",
    "        self.fc2 = torch.nn.Linear(hidden_size * num_layers, output_size)\n",
    "        self.sigmoid = nn.Sigmoid()\n",
    "        \n",
    "    def init_weights(self):\n",
    "        for name, param in self.named_parameters():\n",
    "            if 'weight' in name:\n",
    "                # Initialize weights with Xavier initialization\n",
    "                init.xavier_uniform_(param)\n",
    "            elif 'bias' in name:\n",
    "                # Initialize biases to zeros\n",
    "                init.constant_(param, 0.0)\n",
    "        \n",
    "    def forward(self, x):\n",
    "        _, (hidden,_) = self.lstm(x)\n",
    "        out = self.fc1(hidden.permute(1,0,2).flatten(start_dim=1))\n",
    "        out = self.fc2(out)\n",
    "        out = self.sigmoid(out)\n",
    "        return out"
   ],
   "metadata": {
    "collapsed": false,
    "ExecuteTime": {
     "end_time": "2024-05-01T17:14:01.842425Z",
     "start_time": "2024-05-01T17:14:01.839514Z"
    }
   },
   "id": "8265ea2a3a16fb19"
  },
  {
   "cell_type": "code",
   "execution_count": 16,
   "outputs": [],
   "source": [
    "def train_model(model, model_name, criterion, optimizer, X_train_dataloader, X_test_tensor, y_test_tensor, num_epochs, truncate):\n",
    "    epoch_losses_training = []\n",
    "    epoch_losses_testing = []\n",
    "    epoch_accuracies_training = []\n",
    "    epoch_accuracies_testing = []\n",
    "    \n",
    "    best_test_accuracy = 0\n",
    "\n",
    "    pbar = tqdm(range(num_epochs))\n",
    "    for epoch in pbar:\n",
    "        total_loss = 0\n",
    "        acc = []\n",
    "\n",
    "        for i, (X_batch, y_batch) in enumerate(X_train_dataloader):\n",
    "            if truncate:\n",
    "                max_seq_len = (X_batch != 0).sum(dim=1).max().item()\n",
    "                X_batch = X_batch[:, :max_seq_len, :]\n",
    "\n",
    "            outputs = model(X_batch)\n",
    "            loss = criterion(outputs, y_batch)\n",
    "            acc.append((outputs > 0.5).int() == y_batch)\n",
    "\n",
    "            total_loss += loss.item() * len(X_batch)\n",
    "\n",
    "            optimizer.zero_grad()\n",
    "            loss.backward()\n",
    "            optimizer.step() \n",
    "\n",
    "        epoch_accuracies_training.append(torch.cat(acc).cpu().float().mean())\n",
    "        epoch_losses_training.append(total_loss/len(X_train_tensor))\n",
    "\n",
    "        with torch.no_grad():\n",
    "            output_test = model(X_test_tensor)\n",
    "            loss_test = criterion(output_test, y_test_tensor)\n",
    "            epoch_losses_testing.append(loss_test.item())\n",
    "\n",
    "            test_outputs = (output_test > 0.5).int()\n",
    "            epoch_accuracies_testing.append(balanced_accuracy_score(y_test_tensor.int().cpu().numpy(), test_outputs.cpu().numpy()))\n",
    "\n",
    "            pbar.set_description(f'Epoch [{epoch+1}/{num_epochs}], Training Loss: {epoch_losses_training[-1]:.4f}, Training Accuracy: {epoch_accuracies_training[-1]:.4f}, Test loss: {epoch_losses_testing[-1]:.4f}, Test Accuracy: {epoch_accuracies_testing[-1]:.4f}')\n",
    "            \n",
    "        if epoch_accuracies_testing[-1] > best_test_accuracy:\n",
    "            best_test_accuracy = epoch_accuracies_testing[-1]\n",
    "            torch.save(model.state_dict(), f'./p1/models/{model_name}_{num_epochs}.pth')\n",
    "        \n",
    "        with open(f'./p1/eval/eval_{model_name}_{num_epochs}.pkl', 'wb') as f:\n",
    "            pickle.dump((epoch_losses_training, epoch_losses_testing, epoch_accuracies_training, epoch_accuracies_testing), f)"
   ],
   "metadata": {
    "collapsed": false,
    "ExecuteTime": {
     "end_time": "2024-05-01T17:14:01.847329Z",
     "start_time": "2024-05-01T17:14:01.845266Z"
    }
   },
   "id": "59f63182106b3e4e"
  },
  {
   "cell_type": "code",
   "execution_count": 17,
   "outputs": [],
   "source": [
    "def plot_acc_and_loss(model_name, num_epochs):\n",
    "    \n",
    "    with open(f'./p1/eval/eval_{model_name}_{num_epochs}.pkl', \"rb\") as f:\n",
    "        while True:\n",
    "            try:\n",
    "                epoch_losses_training, epoch_losses_testing, epoch_accuracies_training, epoch_accuracies_testing = pickle.load(f)\n",
    "            except EOFError:\n",
    "                break\n",
    "\n",
    "    fig, axs = plt.subplots(1, 2, figsize=(14, 5))\n",
    "\n",
    "    # Plotting the losses\n",
    "    axs[0].plot(epoch_losses_training, label='Training Loss')\n",
    "    axs[0].plot(epoch_losses_testing, label='Testing Loss')\n",
    "    axs[0].set_xlabel('Epoch')\n",
    "    axs[0].set_ylabel('Loss')\n",
    "    axs[0].legend()\n",
    "    \n",
    "    # Plotting the accuracies\n",
    "    axs[1].plot(epoch_accuracies_training, label='Training Accuracy')\n",
    "    axs[1].plot(epoch_accuracies_testing, label='Testing Balanced Accuracy')\n",
    "    axs[1].set_xlabel('Epoch')\n",
    "    axs[1].set_ylabel('Accuracy')\n",
    "    axs[1].legend()\n",
    "    \n",
    "    plt.tight_layout()\n",
    "    plt.show()"
   ],
   "metadata": {
    "collapsed": false,
    "ExecuteTime": {
     "end_time": "2024-05-01T17:14:01.851636Z",
     "start_time": "2024-05-01T17:14:01.849156Z"
    }
   },
   "id": "1f16692f627cc3b"
  },
  {
   "cell_type": "code",
   "execution_count": 18,
   "outputs": [],
   "source": [
    "def print_model_summary(model, criterion, X_test_tensor, y_test_tensor):\n",
    "    print(model)\n",
    "    print('Number of parameters: ' + str(sum(p.numel() for p in model.parameters() if p.requires_grad)))\n",
    "    \n",
    "    with torch.no_grad():\n",
    "        outputs = model(X_test_tensor)\n",
    "        loss = criterion(outputs, y_test_tensor)\n",
    "        outputs = (outputs > 0.5).float()\n",
    "        accuracy = (outputs == y_test_tensor).float().mean()\n",
    "    print(f'Accuracy: {accuracy.item():.4f}, Loss: {loss.item():.4f}, Balanced Accuracy: {balanced_accuracy_score(y_test_tensor.int().cpu().numpy(), outputs.cpu().numpy())}')"
   ],
   "metadata": {
    "collapsed": false,
    "ExecuteTime": {
     "end_time": "2024-05-01T17:14:01.855937Z",
     "start_time": "2024-05-01T17:14:01.852399Z"
    }
   },
   "id": "99035b26a313e128"
  },
  {
   "cell_type": "code",
   "execution_count": 19,
   "outputs": [],
   "source": [
    "input_size = 1  \n",
    "hidden_size = 50\n",
    "num_layers = 5\n",
    "output_size = 1\n",
    "\n",
    "lstm = LSTMModel(input_size, hidden_size, num_layers, output_size, bidirectional=False).to(device)\n",
    "criterion = nn.BCELoss()\n",
    "optimizer = torch.optim.Adam(lstm.parameters(), lr=0.0005)"
   ],
   "metadata": {
    "collapsed": false,
    "ExecuteTime": {
     "end_time": "2024-05-01T17:14:02.459876Z",
     "start_time": "2024-05-01T17:14:01.855602Z"
    }
   },
   "id": "f26fbed3"
  },
  {
   "cell_type": "code",
   "execution_count": 20,
   "outputs": [],
   "source": [
    "num_epochs = 200\n",
    "torch.manual_seed(42)\n",
    "model_name = 'lstm'"
   ],
   "metadata": {
    "collapsed": false,
    "ExecuteTime": {
     "end_time": "2024-05-01T17:14:02.478128Z",
     "start_time": "2024-05-01T17:14:02.460251Z"
    }
   },
   "id": "af3891ba4843316a"
  },
  {
   "cell_type": "code",
   "execution_count": null,
   "outputs": [
    {
     "name": "stderr",
     "output_type": "stream",
     "text": [
      "Epoch [50/200], Training Loss: 0.5562, Training Accuracy: 0.7084, Test loss: 0.5048, Test Accuracy: 0.6944:  25%|██▌       | 50/200 [02:14<06:37,  2.65s/it]"
     ]
    }
   ],
   "source": [
    "train_model(lstm, model_name, criterion, optimizer, X_train_dataloader, X_test_tensor, y_test_tensor, num_epochs=num_epochs, truncate=True)\n",
    "plot_acc_and_loss(model_name, num_epochs)"
   ],
   "metadata": {
    "collapsed": false,
    "is_executing": true,
    "ExecuteTime": {
     "start_time": "2024-05-01T17:14:02.478565Z"
    }
   },
   "id": "90acd2ea19640cfa"
  },
  {
   "cell_type": "code",
   "execution_count": null,
   "outputs": [],
   "source": [
    "lstm.load_state_dict(torch.load(f'./p1/models/{model_name}_{num_epochs}.pth'))\n",
    "print_model_summary(lstm, criterion, X_test_tensor, y_test_tensor)"
   ],
   "metadata": {
    "collapsed": false,
    "is_executing": true
   },
   "id": "a71dbecbdefd3e94"
  },
  {
   "cell_type": "markdown",
   "source": [
    "### Bidirectional LSTM\n"
   ],
   "metadata": {
    "collapsed": false
   },
   "id": "baaf56a333d56688"
  },
  {
   "cell_type": "code",
   "execution_count": null,
   "outputs": [],
   "source": [
    "lstm_bidir = LSTMModel(input_size, hidden_size, num_layers, output_size, bidirectional=True).to(device)\n",
    "criterion = nn.BCELoss()\n",
    "optimizer = torch.optim.Adam(lstm_bidir.parameters(), lr=0.0005)"
   ],
   "metadata": {
    "collapsed": false,
    "is_executing": true
   },
   "id": "0d5ddd97"
  },
  {
   "cell_type": "code",
   "execution_count": null,
   "id": "1455b287",
   "metadata": {
    "is_executing": true
   },
   "outputs": [],
   "source": [
    "num_epochs = 200\n",
    "torch.manual_seed(42)\n",
    "model_name = 'lstm_bidir'"
   ]
  },
  {
   "cell_type": "code",
   "execution_count": null,
   "id": "98987ca4",
   "metadata": {
    "is_executing": true
   },
   "outputs": [],
   "source": [
    "train_model(lstm_bidir, model_name, criterion, optimizer, X_train_dataloader, X_test_tensor, y_test_tensor, num_epochs=num_epochs, truncate=True)\n",
    "plot_acc_and_loss(model_name, num_epochs)"
   ]
  },
  {
   "cell_type": "code",
   "execution_count": null,
   "outputs": [],
   "source": [
    "lstm_bidir.load_state_dict(torch.load(f'./p1/models/{model_name}_{num_epochs}.pth'))\n",
    "print_model_summary(lstm_bidir, criterion, X_test_tensor, y_test_tensor)"
   ],
   "metadata": {
    "collapsed": false,
    "is_executing": true
   },
   "id": "adbc7d794ae258c6"
  },
  {
   "cell_type": "markdown",
   "id": "2f27593aa49d15e5",
   "metadata": {
    "collapsed": false
   },
   "source": [
    "## Convolutional Neural Networks"
   ]
  },
  {
   "cell_type": "markdown",
   "id": "432bb796c1544f1e",
   "metadata": {
    "collapsed": false
   },
   "source": [
    "### Vanilla CNN"
   ]
  },
  {
   "cell_type": "code",
   "execution_count": null,
   "id": "5b8b7123ae113956",
   "metadata": {
    "collapsed": false,
    "is_executing": true
   },
   "outputs": [],
   "source": [
    "class CNNModel(nn.Module):\n",
    "    def __init__(self, input_size, output_size):\n",
    "        super(CNNModel, self).__init__()\n",
    "        self.conv1 = nn.Conv1d(in_channels=1, out_channels=16, kernel_size=3, stride=1, padding=1)\n",
    "        self.conv2 = nn.Conv1d(in_channels=16, out_channels=32, kernel_size=3, stride=1, padding=1)\n",
    "        self.fc = nn.LazyLinear(out_features = output_size)\n",
    "        self.sigmoid = nn.Sigmoid()\n",
    "        \n",
    "    def forward(self, x):\n",
    "        x = torch.squeeze(x, dim=-1)\n",
    "        x = x.unsqueeze(1)\n",
    "        x = self.conv1(x)\n",
    "        x = torch.relu(x)\n",
    "        x = self.conv2(x)\n",
    "        x = torch.relu(x)\n",
    "        x = x.view(x.size(0), -1)\n",
    "        x = self.fc(x)\n",
    "        x = self.sigmoid(x)\n",
    "        return x"
   ]
  },
  {
   "cell_type": "code",
   "execution_count": null,
   "id": "f1ed746edfdc0425",
   "metadata": {
    "collapsed": false,
    "is_executing": true
   },
   "outputs": [],
   "source": [
    "input_size = X_train_tensor.shape[1]\n",
    "output_size = 1\n",
    "\n",
    "cnn = CNNModel(input_size, output_size).to(device)\n",
    "criterion = nn.BCELoss()\n",
    "optimizer = torch.optim.Adam(cnn.parameters(), lr=0.001)"
   ]
  },
  {
   "cell_type": "code",
   "execution_count": null,
   "id": "a3987120db3848a4",
   "metadata": {
    "collapsed": false,
    "is_executing": true
   },
   "outputs": [],
   "source": [
    "num_epochs = 200\n",
    "torch.manual_seed(42)\n",
    "model_name = 'cnn'"
   ]
  },
  {
   "cell_type": "code",
   "execution_count": null,
   "id": "b16609f0ef3ed67e",
   "metadata": {
    "collapsed": false,
    "is_executing": true
   },
   "outputs": [],
   "source": [
    "train_model(cnn, model_name, criterion, optimizer, X_train_dataloader, X_test_tensor, y_test_tensor, num_epochs=num_epochs, truncate=False)\n",
    "plot_acc_and_loss(model_name, num_epochs)"
   ]
  },
  {
   "cell_type": "code",
   "execution_count": null,
   "outputs": [],
   "source": [
    "cnn.load_state_dict(torch.load(f'./p1/models/{model_name}_{num_epochs}.pth'))\n",
    "print_model_summary(cnn, criterion, X_test_tensor, y_test_tensor)"
   ],
   "metadata": {
    "collapsed": false,
    "is_executing": true
   },
   "id": "c0ff3c73fe6e2f3b"
  },
  {
   "cell_type": "markdown",
   "id": "1c102deecabe535f",
   "metadata": {
    "collapsed": false
   },
   "source": [
    "### CNN with residual connections"
   ]
  },
  {
   "cell_type": "code",
   "execution_count": null,
   "id": "e89c28d6f5b870e",
   "metadata": {
    "collapsed": false,
    "is_executing": true
   },
   "outputs": [],
   "source": [
    "class ResidualBlock(nn.Module):\n",
    "    def __init__(self, in_channels, out_channels, kernel_size, stride, padding):\n",
    "        super(ResidualBlock, self).__init__()\n",
    "        self.conv1 = nn.Conv1d(in_channels, out_channels, kernel_size, stride, padding)\n",
    "        self.conv2 = nn.Conv1d(out_channels, out_channels, kernel_size, stride, padding)\n",
    "        self.relu = nn.ReLU()\n",
    "        \n",
    "    def forward(self, x):\n",
    "        residual = x\n",
    "        x = self.conv1(x)\n",
    "        x = self.relu(x)\n",
    "        x = self.conv2(x)\n",
    "        x += residual\n",
    "        x = self.relu(x)\n",
    "        return x"
   ]
  },
  {
   "cell_type": "code",
   "execution_count": null,
   "id": "e329af40c814342c",
   "metadata": {
    "collapsed": false,
    "is_executing": true
   },
   "outputs": [],
   "source": [
    "class ResidualCNNModel(nn.Module):\n",
    "    def __init__(self, input_size, output_size):\n",
    "        super(ResidualCNNModel, self).__init__()\n",
    "        self.conv1 = nn.Conv1d(in_channels=1, out_channels=16, kernel_size=3, stride=1, padding=1)\n",
    "        self.residual_block1 = ResidualBlock(16, 16, 3, 1, 1)\n",
    "        self.residual_block2 = ResidualBlock(16, 16, 3, 1, 1)\n",
    "        self.conv2 = nn.Conv1d(in_channels=16, out_channels=32, kernel_size=3, stride=1, padding=1)\n",
    "        self.fc = nn.Linear(32*input_size, output_size)\n",
    "        self.sigmoid = nn.Sigmoid()\n",
    "        \n",
    "    def forward(self, x):\n",
    "        x = torch.squeeze(x, dim=-1)\n",
    "        x = x.unsqueeze(1)\n",
    "        x = self.conv1(x)\n",
    "        x = self.residual_block1(x)\n",
    "        x = self.residual_block2(x)\n",
    "        x = self.conv2(x)\n",
    "        x = x.view(x.size(0), -1)\n",
    "        x = self.fc(x)\n",
    "        x = self.sigmoid(x)\n",
    "        return x"
   ]
  },
  {
   "cell_type": "code",
   "execution_count": null,
   "id": "ef38cab50bd9034c",
   "metadata": {
    "collapsed": false,
    "is_executing": true
   },
   "outputs": [],
   "source": [
    "input_size = X_train_tensor.shape[1]\n",
    "output_size = 1\n",
    "\n",
    "cnn_res = ResidualCNNModel(input_size, output_size).to(device)\n",
    "criterion = nn.BCELoss()\n",
    "optimizer = torch.optim.Adam(cnn_res.parameters(), lr=0.001)"
   ]
  },
  {
   "cell_type": "code",
   "execution_count": null,
   "id": "5e8aac6beb873ca3",
   "metadata": {
    "collapsed": false,
    "is_executing": true
   },
   "outputs": [],
   "source": [
    "num_epochs = 200\n",
    "torch.manual_seed(42)\n",
    "model_name = 'cnn_res'"
   ]
  },
  {
   "cell_type": "code",
   "execution_count": null,
   "id": "c3ad34c1d7c16b78",
   "metadata": {
    "collapsed": false,
    "is_executing": true
   },
   "outputs": [],
   "source": [
    "train_model(cnn_res, model_name, criterion, optimizer, X_train_dataloader, X_test_tensor, y_test_tensor, num_epochs=num_epochs, truncate=False)\n",
    "plot_acc_and_loss(model_name, num_epochs)"
   ]
  },
  {
   "cell_type": "code",
   "execution_count": null,
   "outputs": [],
   "source": [
    "cnn_res.load_state_dict(torch.load(f'./p1/models/{model_name}_{num_epochs}.pth'))\n",
    "print_model_summary(cnn_res, criterion, X_test_tensor, y_test_tensor)"
   ],
   "metadata": {
    "collapsed": false,
    "is_executing": true
   },
   "id": "cc73c5ea618e95b6"
  },
  {
   "cell_type": "markdown",
   "id": "21c8255c714871f8",
   "metadata": {
    "collapsed": false
   },
   "source": [
    "## Attention and Transformers"
   ]
  },
  {
   "cell_type": "code",
   "execution_count": null,
   "id": "1ee36cbcd24d9675",
   "metadata": {
    "collapsed": false,
    "is_executing": true
   },
   "outputs": [],
   "source": [
    "class PositionalEncoding(nn.Module):\n",
    "    def __init__(self, d_model, max_len=5000):\n",
    "        super(PositionalEncoding, self).__init__()\n",
    "        self.dropout = nn.Dropout(p=0.1)\n",
    "        \n",
    "        pe = torch.zeros(max_len, d_model)\n",
    "        position = torch.arange(0, max_len, dtype=torch.float).unsqueeze(1)\n",
    "        div_term = torch.exp(torch.arange(0, d_model, 2).float() * (-torch.log(torch.tensor(5000.0)) / d_model))\n",
    "        pe[:, 0::2] = torch.sin(position * div_term)\n",
    "        pe[:, 1::2] = torch.cos(position * div_term)\n",
    "        pe = pe.unsqueeze(0).transpose(0, 1)\n",
    "        self.register_buffer('pe', pe)\n",
    "        \n",
    "    def forward(self, x):\n",
    "        x = x + self.pe[:x.size(0), :]\n",
    "        return self.dropout(x)"
   ]
  },
  {
   "cell_type": "code",
   "execution_count": null,
   "id": "693c1b1856f6686d",
   "metadata": {
    "collapsed": false,
    "is_executing": true
   },
   "outputs": [],
   "source": [
    "class TransformerModel(nn.Module):\n",
    "    def __init__(self, input_dim, output_size, d_model=128, nhead=4, num_encoder_layers=3, dim_feedforward=512, dropout=0.1):\n",
    "        super(TransformerModel, self).__init__()\n",
    "        self.embedding = nn.Linear(input_dim, d_model)\n",
    "        self.pos_encoder = PositionalEncoding(d_model)\n",
    "        encoder_layers = nn.TransformerEncoderLayer(d_model, nhead, dim_feedforward, dropout)\n",
    "        self.transformer_encoder = nn.TransformerEncoder(encoder_layers, num_encoder_layers)\n",
    "        self.fc = nn.Linear(d_model, output_size)\n",
    "        self.sigmoid = nn.Sigmoid()\n",
    "        self.d_model = d_model\n",
    "        \n",
    "    def forward(self, src):\n",
    "        src = self.embedding(src.permute(0,2,1)) * math.sqrt(self.d_model)\n",
    "        src = self.pos_encoder(src)\n",
    "        output = self.transformer_encoder(src)\n",
    "        output = self.fc(output.mean(dim=1))  # Global average pooling\n",
    "        output = self.sigmoid(output)\n",
    "        return output"
   ]
  },
  {
   "cell_type": "code",
   "execution_count": null,
   "id": "be8d9140",
   "metadata": {
    "is_executing": true
   },
   "outputs": [],
   "source": [
    "input_size = X_train_tensor.shape[1]\n",
    "output_size = 1\n",
    "\n",
    "transformer = TransformerModel(input_size, output_size).to(device)\n",
    "criterion = nn.BCELoss()\n",
    "optimizer = torch.optim.Adam(transformer.parameters(), lr=0.001)"
   ]
  },
  {
   "cell_type": "code",
   "execution_count": null,
   "id": "1259301772e1a30e",
   "metadata": {
    "collapsed": false,
    "is_executing": true
   },
   "outputs": [],
   "source": [
    "num_epochs = 200\n",
    "torch.manual_seed(42)\n",
    "model_name = 'transformer'"
   ]
  },
  {
   "cell_type": "code",
   "execution_count": null,
   "id": "e13cb4c615a41adf",
   "metadata": {
    "collapsed": false,
    "is_executing": true
   },
   "outputs": [],
   "source": [
    "train_model(transformer, model_name, criterion, optimizer, X_train_dataloader, X_test_tensor, y_test_tensor, num_epochs=num_epochs, truncate=False)\n",
    "plot_acc_and_loss(model_name, num_epochs)"
   ]
  },
  {
   "cell_type": "code",
   "execution_count": null,
   "outputs": [],
   "source": [
    "transformer.load_state_dict(torch.load(f'./p1/models/{model_name}_{num_epochs}.pth'))\n",
    "print_model_summary(transformer, criterion, X_test_tensor, y_test_tensor)"
   ],
   "metadata": {
    "collapsed": false,
    "is_executing": true
   },
   "id": "fb161ca76fe558a9"
  }
 ],
 "metadata": {
  "kernelspec": {
   "display_name": "Python 3",
   "language": "python",
   "name": "python3"
  },
  "language_info": {
   "codemirror_mode": {
    "name": "ipython",
    "version": 3
   },
   "file_extension": ".py",
   "mimetype": "text/x-python",
   "name": "python",
   "nbconvert_exporter": "python",
   "pygments_lexer": "ipython3",
   "version": "3.10.13"
  }
 },
 "nbformat": 4,
 "nbformat_minor": 5
}
