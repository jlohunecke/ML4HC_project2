{
 "cells": [
  {
   "cell_type": "markdown",
   "source": [
    "# Project 2 - Part 2"
   ],
   "metadata": {
    "collapsed": false
   },
   "id": "49111d2bc8b42a5d"
  },
  {
   "cell_type": "code",
   "execution_count": 1,
   "outputs": [
    {
     "name": "stdout",
     "output_type": "stream",
     "text": [
      "Requirement already satisfied: torch in /Users/jacobleooskar/Documents/Education/ETHZ/Curriculum/Semester02/02ML4HC/Projects/Project 2/venv/lib/python3.9/site-packages (from -r requirements.txt (line 1)) (2.2.2)\r\n",
      "Requirement already satisfied: filelock in /Users/jacobleooskar/Documents/Education/ETHZ/Curriculum/Semester02/02ML4HC/Projects/Project 2/venv/lib/python3.9/site-packages (from torch->-r requirements.txt (line 1)) (3.13.4)\r\n",
      "Requirement already satisfied: typing-extensions>=4.8.0 in /Users/jacobleooskar/Documents/Education/ETHZ/Curriculum/Semester02/02ML4HC/Projects/Project 2/venv/lib/python3.9/site-packages (from torch->-r requirements.txt (line 1)) (4.11.0)\r\n",
      "Requirement already satisfied: sympy in /Users/jacobleooskar/Documents/Education/ETHZ/Curriculum/Semester02/02ML4HC/Projects/Project 2/venv/lib/python3.9/site-packages (from torch->-r requirements.txt (line 1)) (1.12)\r\n",
      "Requirement already satisfied: networkx in /Users/jacobleooskar/Documents/Education/ETHZ/Curriculum/Semester02/02ML4HC/Projects/Project 2/venv/lib/python3.9/site-packages (from torch->-r requirements.txt (line 1)) (3.2.1)\r\n",
      "Requirement already satisfied: jinja2 in /Users/jacobleooskar/Documents/Education/ETHZ/Curriculum/Semester02/02ML4HC/Projects/Project 2/venv/lib/python3.9/site-packages (from torch->-r requirements.txt (line 1)) (3.1.3)\r\n",
      "Requirement already satisfied: fsspec in /Users/jacobleooskar/Documents/Education/ETHZ/Curriculum/Semester02/02ML4HC/Projects/Project 2/venv/lib/python3.9/site-packages (from torch->-r requirements.txt (line 1)) (2024.3.1)\r\n",
      "Requirement already satisfied: MarkupSafe>=2.0 in /Users/jacobleooskar/Documents/Education/ETHZ/Curriculum/Semester02/02ML4HC/Projects/Project 2/venv/lib/python3.9/site-packages (from jinja2->torch->-r requirements.txt (line 1)) (2.1.5)\r\n",
      "Requirement already satisfied: mpmath>=0.19 in /Users/jacobleooskar/Documents/Education/ETHZ/Curriculum/Semester02/02ML4HC/Projects/Project 2/venv/lib/python3.9/site-packages (from sympy->torch->-r requirements.txt (line 1)) (1.3.0)\r\n",
      "\r\n",
      "\u001B[1m[\u001B[0m\u001B[34;49mnotice\u001B[0m\u001B[1;39;49m]\u001B[0m\u001B[39;49m A new release of pip is available: \u001B[0m\u001B[31;49m23.2.1\u001B[0m\u001B[39;49m -> \u001B[0m\u001B[32;49m24.0\u001B[0m\r\n",
      "\u001B[1m[\u001B[0m\u001B[34;49mnotice\u001B[0m\u001B[1;39;49m]\u001B[0m\u001B[39;49m To update, run: \u001B[0m\u001B[32;49mpip install --upgrade pip\u001B[0m\r\n",
      "Note: you may need to restart the kernel to use updated packages.\n"
     ]
    }
   ],
   "source": [
    "pip install -r requirements.txt"
   ],
   "metadata": {
    "collapsed": false,
    "ExecuteTime": {
     "end_time": "2024-04-23T16:01:02.512491Z",
     "start_time": "2024-04-23T16:01:01.891772Z"
    }
   },
   "id": "7ec59a0b6d17b547"
  },
  {
   "cell_type": "code",
   "execution_count": null,
   "outputs": [],
   "source": [],
   "metadata": {
    "collapsed": false
   },
   "id": "efdd69652751030b"
  },
  {
   "cell_type": "markdown",
   "source": [
    "## Supervised Model for Transfer"
   ],
   "metadata": {
    "collapsed": false
   },
   "id": "6eb0679fb54cf695"
  },
  {
   "cell_type": "markdown",
   "source": [
    "## Representation Learning Model"
   ],
   "metadata": {
    "collapsed": false
   },
   "id": "a66b35644c394326"
  },
  {
   "cell_type": "markdown",
   "source": [
    "## Visualising Learned Representations"
   ],
   "metadata": {
    "collapsed": false
   },
   "id": "fc7cbb70f72b8ee"
  },
  {
   "cell_type": "markdown",
   "source": [
    "## Finetuning Strategies"
   ],
   "metadata": {
    "collapsed": false
   },
   "id": "fa106bc1fbc9d7ec"
  },
  {
   "cell_type": "code",
   "execution_count": null,
   "outputs": [],
   "source": [],
   "metadata": {
    "collapsed": false
   },
   "id": "ec91686d080d7ff1"
  }
 ],
 "metadata": {
  "kernelspec": {
   "display_name": "Python 3",
   "language": "python",
   "name": "python3"
  },
  "language_info": {
   "codemirror_mode": {
    "name": "ipython",
    "version": 2
   },
   "file_extension": ".py",
   "mimetype": "text/x-python",
   "name": "python",
   "nbconvert_exporter": "python",
   "pygments_lexer": "ipython2",
   "version": "2.7.6"
  }
 },
 "nbformat": 4,
 "nbformat_minor": 5
}
